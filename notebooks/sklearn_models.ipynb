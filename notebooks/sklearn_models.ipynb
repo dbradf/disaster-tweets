{
 "cells": [
  {
   "cell_type": "code",
   "execution_count": null,
   "metadata": {},
   "outputs": [],
   "source": [
    "import pandas as pd\n",
    "\n",
    "DATASET_FILE = \"../data/train.csv\""
   ]
  },
  {
   "cell_type": "code",
   "execution_count": null,
   "metadata": {},
   "outputs": [],
   "source": [
    "from disaster_tweets.sklearn_models import get_dataset\n",
    "\n",
    "train_data, test_data = get_dataset(DATASET_FILE)"
   ]
  },
  {
   "cell_type": "code",
   "execution_count": null,
   "metadata": {},
   "outputs": [],
   "source": [
    "from sklearn.linear_model import SGDClassifier\n",
    "from sklearn.ensemble import RandomForestClassifier\n",
    "from sklearn.svm import SVC\n",
    "\n",
    "\n",
    "MODELS = {\n",
    "    \"sgd\": SGDClassifier(),\n",
    "    \"random forest\": RandomForestClassifier(),\n",
    "    \"svc\": SVC(),\n",
    "}"
   ]
  },
  {
   "cell_type": "code",
   "execution_count": null,
   "metadata": {},
   "outputs": [],
   "source": [
    "from sklearn.metrics import classification_report\n",
    "\n",
    "def train_and_test(model):\n",
    "    model.fit(train_data, train_data[\"target\"])\n",
    "    predictions = model.predict(test_data)\n",
    "    return classification_report(test_data[\"target\"], predictions, output_dict=True)"
   ]
  },
  {
   "cell_type": "code",
   "execution_count": null,
   "metadata": {},
   "outputs": [],
   "source": [
    "from time import perf_counter\n",
    "from disaster_tweets.sklearn_models import create_pipeline, classification_heatmap, report_to_df\n",
    "\n",
    "reports = {}\n",
    "for name, classifier in MODELS.items():\n",
    "    start = perf_counter()\n",
    "    model = create_pipeline(classifier)\n",
    "    report = report_to_df(train_and_test(model))\n",
    "    end = perf_counter()\n",
    "    print()\n",
    "    print(f\"model: {name}, training time: {end - start}s\")\n",
    "    print(report)\n",
    "    reports[name] = report"
   ]
  },
  {
   "cell_type": "code",
   "execution_count": null,
   "metadata": {},
   "outputs": [],
   "source": [
    "for name, report in reports.items():\n",
    "    classification_heatmap(report, name)"
   ]
  },
  {
   "cell_type": "code",
   "execution_count": null,
   "metadata": {},
   "outputs": [],
   "source": [
    "# https://scikit-learn.org/stable/modules/generated/sklearn.linear_model.SGDClassifier.html\n",
    "\n",
    "sgd_model = create_pipeline(SGDClassifier())\n",
    "sgd_model.get_params()"
   ]
  },
  {
   "cell_type": "code",
   "execution_count": null,
   "metadata": {},
   "outputs": [],
   "source": [
    "from sklearn.model_selection import GridSearchCV\n",
    "from sklearn.metrics import f1_score, make_scorer\n",
    "\n",
    "params = {\n",
    "    \"classifier__loss\": [\"hinge\", \"log\", \"modified_huber\", \"squared_hinge\"],\n",
    "    \"classifier__max_iter\": [1000, 10_000, 100],\n",
    "}\n",
    "\n",
    "grid_search = GridSearchCV(sgd_model, params, scoring=make_scorer(f1_score))\n",
    "grid_search.fit(train_data, train_data[\"target\"])\n",
    "grid_search.cv_results_"
   ]
  },
  {
   "cell_type": "code",
   "execution_count": null,
   "metadata": {},
   "outputs": [],
   "source": [
    "grid_search.best_estimator_, grid_search.best_score_"
   ]
  },
  {
   "cell_type": "code",
   "execution_count": null,
   "metadata": {},
   "outputs": [],
   "source": [
    "model = grid_search.best_estimator_\n",
    "predictions = model.predict(test_data)\n",
    "report = classification_report(test_data[\"target\"], predictions, output_dict=True)\n",
    "classification_heatmap(report_to_df(report), \"Best Estimator\")"
   ]
  },
  {
   "cell_type": "code",
   "execution_count": null,
   "metadata": {},
   "outputs": [],
   "source": [
    "from sklearn.feature_extraction.text import TfidfVectorizer\n",
    "from disaster_tweets.tokenizer import tokenize\n",
    "\n",
    "sgd_model_tuned = create_pipeline(SGDClassifier(loss=\"log\", max_iter=10_000), vectorizer=TfidfVectorizer, tokenizer=tokenize)\n",
    "start = perf_counter()\n",
    "report = report_to_df(train_and_test(sgd_model_tuned))\n",
    "end = perf_counter()\n",
    "end - start"
   ]
  },
  {
   "cell_type": "code",
   "execution_count": null,
   "metadata": {},
   "outputs": [],
   "source": [
    "classification_heatmap(report, \"sgd_model_tuned\")"
   ]
  },
  {
   "cell_type": "code",
   "execution_count": null,
   "metadata": {},
   "outputs": [],
   "source": [
    "report"
   ]
  },
  {
   "cell_type": "code",
   "execution_count": null,
   "metadata": {},
   "outputs": [],
   "source": []
  }
 ],
 "metadata": {
  "kernelspec": {
   "display_name": "Python 3",
   "language": "python",
   "name": "python3"
  },
  "language_info": {
   "codemirror_mode": {
    "name": "ipython",
    "version": 3
   },
   "file_extension": ".py",
   "mimetype": "text/x-python",
   "name": "python",
   "nbconvert_exporter": "python",
   "pygments_lexer": "ipython3",
   "version": "3.8.5"
  }
 },
 "nbformat": 4,
 "nbformat_minor": 4
}
