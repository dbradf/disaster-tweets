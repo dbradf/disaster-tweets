{
 "cells": [
  {
   "cell_type": "code",
   "execution_count": 1,
   "metadata": {},
   "outputs": [],
   "source": [
    "import pandas as pd\n",
    "\n",
    "DATASET_FILE = \"../data/train.csv\""
   ]
  },
  {
   "cell_type": "code",
   "execution_count": 2,
   "metadata": {},
   "outputs": [],
   "source": [
    "from disaster_tweets.sklearn_models import get_dataset\n",
    "\n",
    "train_data, test_data = get_dataset(DATASET_FILE)"
   ]
  },
  {
   "cell_type": "code",
   "execution_count": 3,
   "metadata": {},
   "outputs": [],
   "source": [
    "# Convert text into words.\n",
    "def tokenize(text):\n",
    "    return text.split()"
   ]
  },
  {
   "cell_type": "code",
   "execution_count": 4,
   "metadata": {},
   "outputs": [],
   "source": [
    "from sklearn.pipeline import Pipeline\n",
    "from sklearn.compose import ColumnTransformer\n",
    "from sklearn.preprocessing import OneHotEncoder\n",
    "from sklearn.feature_extraction.text import TfidfVectorizer, CountVectorizer\n",
    "\n",
    "DEFAULT_WEIGHTS = {\"text\": 1, \"keyword\": 0, \"location\": 0}\n",
    "\n",
    "# Define our pipeline.\n",
    "def create_pipeline(classifier, vectorizer=CountVectorizer, weights=None):\n",
    "    steps = [\n",
    "        (\n",
    "        \"column\", ColumnTransformer(\n",
    "            [\n",
    "                (\"text\", vectorizer(tokenizer=tokenize, preprocessor=None, lowercase=False), \"text\"),\n",
    "                (\"keyword\", OneHotEncoder(handle_unknown=\"ignore\"), [\"keyword\"]),\n",
    "                (\"location\", OneHotEncoder(handle_unknown=\"ignore\"), [\"location\"]),\n",
    "            ],\n",
    "            remainder=\"drop\",\n",
    "            transformer_weights=weights if weights else DEFAULT_WEIGHTS,\n",
    "        ))\n",
    "    ]\n",
    "    \n",
    "    steps.append((\"classifier\", classifier))\n",
    "    return Pipeline(steps)"
   ]
  },
  {
   "cell_type": "code",
   "execution_count": 5,
   "metadata": {},
   "outputs": [],
   "source": [
    "from sklearn.tree import DecisionTreeClassifier\n",
    "\n",
    "# Build a simple classifier.\n",
    "classifier = create_pipeline(DecisionTreeClassifier())"
   ]
  },
  {
   "cell_type": "code",
   "execution_count": 6,
   "metadata": {},
   "outputs": [
    {
     "name": "stdout",
     "output_type": "stream",
     "text": [
      "CPU times: user 1.44 s, sys: 427 µs, total: 1.44 s\n",
      "Wall time: 1.44 s\n"
     ]
    },
    {
     "data": {
      "text/plain": [
       "Pipeline(steps=[('column',\n",
       "                 ColumnTransformer(transformer_weights={'keyword': 0,\n",
       "                                                        'location': 0,\n",
       "                                                        'text': 1},\n",
       "                                   transformers=[('text',\n",
       "                                                  CountVectorizer(lowercase=False,\n",
       "                                                                  tokenizer=<function tokenize at 0x7f57697361f0>),\n",
       "                                                  'text'),\n",
       "                                                 ('keyword',\n",
       "                                                  OneHotEncoder(handle_unknown='ignore'),\n",
       "                                                  ['keyword']),\n",
       "                                                 ('location',\n",
       "                                                  OneHotEncoder(handle_unknown='ignore'),\n",
       "                                                  ['location'])])),\n",
       "                ('classifier', DecisionTreeClassifier())])"
      ]
     },
     "execution_count": 6,
     "metadata": {},
     "output_type": "execute_result"
    }
   ],
   "source": [
    "# Train out model.\n",
    "%time classifier.fit(train_data, train_data[\"target\"])"
   ]
  },
  {
   "cell_type": "code",
   "execution_count": 7,
   "metadata": {},
   "outputs": [
    {
     "data": {
      "text/plain": [
       "array([0, 1, 0, ..., 0, 0, 1])"
      ]
     },
     "execution_count": 7,
     "metadata": {},
     "output_type": "execute_result"
    }
   ],
   "source": [
    "predictions = classifier.predict(test_data)\n",
    "predictions"
   ]
  },
  {
   "cell_type": "code",
   "execution_count": 8,
   "metadata": {},
   "outputs": [
    {
     "name": "stdout",
     "output_type": "stream",
     "text": [
      "              precision    recall  f1-score   support\n",
      "\n",
      "           0       0.73      0.82      0.77       860\n",
      "           1       0.72      0.61      0.66       663\n",
      "\n",
      "    accuracy                           0.73      1523\n",
      "   macro avg       0.73      0.72      0.72      1523\n",
      "weighted avg       0.73      0.73      0.73      1523\n",
      "\n"
     ]
    }
   ],
   "source": [
    "from sklearn.metrics import classification_report\n",
    "\n",
    "print(classification_report(test_data[\"target\"], predictions))\n",
    "report = classification_report(test_data[\"target\"], predictions, output_dict=True)"
   ]
  },
  {
   "cell_type": "code",
   "execution_count": 9,
   "metadata": {},
   "outputs": [
    {
     "data": {
      "text/html": [
       "<div>\n",
       "<style scoped>\n",
       "    .dataframe tbody tr th:only-of-type {\n",
       "        vertical-align: middle;\n",
       "    }\n",
       "\n",
       "    .dataframe tbody tr th {\n",
       "        vertical-align: top;\n",
       "    }\n",
       "\n",
       "    .dataframe thead th {\n",
       "        text-align: right;\n",
       "    }\n",
       "</style>\n",
       "<table border=\"1\" class=\"dataframe\">\n",
       "  <thead>\n",
       "    <tr style=\"text-align: right;\">\n",
       "      <th></th>\n",
       "      <th>precision</th>\n",
       "      <th>recall</th>\n",
       "      <th>f1-score</th>\n",
       "    </tr>\n",
       "  </thead>\n",
       "  <tbody>\n",
       "    <tr>\n",
       "      <th>0</th>\n",
       "      <td>0.732848</td>\n",
       "      <td>0.819767</td>\n",
       "      <td>0.773875</td>\n",
       "    </tr>\n",
       "    <tr>\n",
       "      <th>1</th>\n",
       "      <td>0.723708</td>\n",
       "      <td>0.612368</td>\n",
       "      <td>0.663399</td>\n",
       "    </tr>\n",
       "    <tr>\n",
       "      <th>accuracy</th>\n",
       "      <td>0.729481</td>\n",
       "      <td>0.729481</td>\n",
       "      <td>0.729481</td>\n",
       "    </tr>\n",
       "    <tr>\n",
       "      <th>macro avg</th>\n",
       "      <td>0.728278</td>\n",
       "      <td>0.716068</td>\n",
       "      <td>0.718637</td>\n",
       "    </tr>\n",
       "    <tr>\n",
       "      <th>weighted avg</th>\n",
       "      <td>0.728869</td>\n",
       "      <td>0.729481</td>\n",
       "      <td>0.725782</td>\n",
       "    </tr>\n",
       "  </tbody>\n",
       "</table>\n",
       "</div>"
      ],
      "text/plain": [
       "              precision    recall  f1-score\n",
       "0              0.732848  0.819767  0.773875\n",
       "1              0.723708  0.612368  0.663399\n",
       "accuracy       0.729481  0.729481  0.729481\n",
       "macro avg      0.728278  0.716068  0.718637\n",
       "weighted avg   0.728869  0.729481  0.725782"
      ]
     },
     "execution_count": 9,
     "metadata": {},
     "output_type": "execute_result"
    }
   ],
   "source": [
    "report_df = pd.DataFrame(report).transpose()[[\"precision\", \"recall\", \"f1-score\"]]\n",
    "report_df"
   ]
  },
  {
   "cell_type": "code",
   "execution_count": 10,
   "metadata": {},
   "outputs": [
    {
     "data": {
      "text/plain": [
       "<AxesSubplot:>"
      ]
     },
     "execution_count": 10,
     "metadata": {},
     "output_type": "execute_result"
    },
    {
     "data": {
      "image/png": "[encoded data removed]",
      "text/plain": [
       "<Figure size 648x432 with 2 Axes>"
      ]
     },
     "metadata": {},
     "output_type": "display_data"
    }
   ],
   "source": [
    "import matplotlib.pyplot as plt\n",
    "import seaborn as sns\n",
    "sns.set()\n",
    "\n",
    "f, ax = plt.subplots(figsize=(9, 6))\n",
    "sns.heatmap(report_df.iloc[[0, 1]], annot=True, fmt=\".2%\", linewidths=.5, ax=ax, cmap=\"YlGnBu\")"
   ]
  },
  {
   "cell_type": "code",
   "execution_count": null,
   "metadata": {},
   "outputs": [],
   "source": []
  }
 ],
 "metadata": {
  "kernelspec": {
   "display_name": "Python 3",
   "language": "python",
   "name": "python3"
  },
  "language_info": {
   "codemirror_mode": {
    "name": "ipython",
    "version": 3
   },
   "file_extension": ".py",
   "mimetype": "text/x-python",
   "name": "python",
   "nbconvert_exporter": "python",
   "pygments_lexer": "ipython3",
   "version": "3.8.5"
  }
 },
 "nbformat": 4,
 "nbformat_minor": 4
}
